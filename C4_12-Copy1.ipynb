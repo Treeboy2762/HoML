{
 "cells": [
  {
   "cell_type": "markdown",
   "metadata": {},
   "source": [
    "## Implement Batch Gradient Descent with early stopping for Softmax Regression (without using Scikit-Learn)"
   ]
  },
  {
   "cell_type": "markdown",
   "metadata": {},
   "source": [
    "### Load Dataset"
   ]
  },
  {
   "cell_type": "code",
   "execution_count": 1,
   "metadata": {},
   "outputs": [],
   "source": [
    "import numpy as np\n",
    "import pandas as pd\n",
    "from sklearn import datasets"
   ]
  },
  {
   "cell_type": "code",
   "execution_count": 2,
   "metadata": {},
   "outputs": [],
   "source": [
    "iris = datasets.load_iris()"
   ]
  },
  {
   "cell_type": "code",
   "execution_count": 3,
   "metadata": {},
   "outputs": [],
   "source": [
    "iris_X, iris_y = iris['data'], iris['target']"
   ]
  },
  {
   "cell_type": "code",
   "execution_count": 4,
   "metadata": {},
   "outputs": [],
   "source": [
    "iris_X_df = pd.DataFrame(iris_X)\n",
    "iris_y_df = pd.DataFrame(iris_y)"
   ]
  },
  {
   "cell_type": "code",
   "execution_count": 5,
   "metadata": {},
   "outputs": [],
   "source": [
    "iris_X_df.columns = iris['feature_names']"
   ]
  },
  {
   "cell_type": "code",
   "execution_count": 6,
   "metadata": {},
   "outputs": [
    {
     "data": {
      "text/html": [
       "<div>\n",
       "<style scoped>\n",
       "    .dataframe tbody tr th:only-of-type {\n",
       "        vertical-align: middle;\n",
       "    }\n",
       "\n",
       "    .dataframe tbody tr th {\n",
       "        vertical-align: top;\n",
       "    }\n",
       "\n",
       "    .dataframe thead th {\n",
       "        text-align: right;\n",
       "    }\n",
       "</style>\n",
       "<table border=\"1\" class=\"dataframe\">\n",
       "  <thead>\n",
       "    <tr style=\"text-align: right;\">\n",
       "      <th></th>\n",
       "      <th>sepal length (cm)</th>\n",
       "      <th>sepal width (cm)</th>\n",
       "      <th>petal length (cm)</th>\n",
       "      <th>petal width (cm)</th>\n",
       "    </tr>\n",
       "  </thead>\n",
       "  <tbody>\n",
       "    <tr>\n",
       "      <th>0</th>\n",
       "      <td>5.1</td>\n",
       "      <td>3.5</td>\n",
       "      <td>1.4</td>\n",
       "      <td>0.2</td>\n",
       "    </tr>\n",
       "    <tr>\n",
       "      <th>1</th>\n",
       "      <td>4.9</td>\n",
       "      <td>3.0</td>\n",
       "      <td>1.4</td>\n",
       "      <td>0.2</td>\n",
       "    </tr>\n",
       "    <tr>\n",
       "      <th>2</th>\n",
       "      <td>4.7</td>\n",
       "      <td>3.2</td>\n",
       "      <td>1.3</td>\n",
       "      <td>0.2</td>\n",
       "    </tr>\n",
       "    <tr>\n",
       "      <th>3</th>\n",
       "      <td>4.6</td>\n",
       "      <td>3.1</td>\n",
       "      <td>1.5</td>\n",
       "      <td>0.2</td>\n",
       "    </tr>\n",
       "    <tr>\n",
       "      <th>4</th>\n",
       "      <td>5.0</td>\n",
       "      <td>3.6</td>\n",
       "      <td>1.4</td>\n",
       "      <td>0.2</td>\n",
       "    </tr>\n",
       "    <tr>\n",
       "      <th>...</th>\n",
       "      <td>...</td>\n",
       "      <td>...</td>\n",
       "      <td>...</td>\n",
       "      <td>...</td>\n",
       "    </tr>\n",
       "    <tr>\n",
       "      <th>145</th>\n",
       "      <td>6.7</td>\n",
       "      <td>3.0</td>\n",
       "      <td>5.2</td>\n",
       "      <td>2.3</td>\n",
       "    </tr>\n",
       "    <tr>\n",
       "      <th>146</th>\n",
       "      <td>6.3</td>\n",
       "      <td>2.5</td>\n",
       "      <td>5.0</td>\n",
       "      <td>1.9</td>\n",
       "    </tr>\n",
       "    <tr>\n",
       "      <th>147</th>\n",
       "      <td>6.5</td>\n",
       "      <td>3.0</td>\n",
       "      <td>5.2</td>\n",
       "      <td>2.0</td>\n",
       "    </tr>\n",
       "    <tr>\n",
       "      <th>148</th>\n",
       "      <td>6.2</td>\n",
       "      <td>3.4</td>\n",
       "      <td>5.4</td>\n",
       "      <td>2.3</td>\n",
       "    </tr>\n",
       "    <tr>\n",
       "      <th>149</th>\n",
       "      <td>5.9</td>\n",
       "      <td>3.0</td>\n",
       "      <td>5.1</td>\n",
       "      <td>1.8</td>\n",
       "    </tr>\n",
       "  </tbody>\n",
       "</table>\n",
       "<p>150 rows × 4 columns</p>\n",
       "</div>"
      ],
      "text/plain": [
       "     sepal length (cm)  sepal width (cm)  petal length (cm)  petal width (cm)\n",
       "0                  5.1               3.5                1.4               0.2\n",
       "1                  4.9               3.0                1.4               0.2\n",
       "2                  4.7               3.2                1.3               0.2\n",
       "3                  4.6               3.1                1.5               0.2\n",
       "4                  5.0               3.6                1.4               0.2\n",
       "..                 ...               ...                ...               ...\n",
       "145                6.7               3.0                5.2               2.3\n",
       "146                6.3               2.5                5.0               1.9\n",
       "147                6.5               3.0                5.2               2.0\n",
       "148                6.2               3.4                5.4               2.3\n",
       "149                5.9               3.0                5.1               1.8\n",
       "\n",
       "[150 rows x 4 columns]"
      ]
     },
     "execution_count": 6,
     "metadata": {},
     "output_type": "execute_result"
    }
   ],
   "source": [
    "iris_X_df"
   ]
  },
  {
   "cell_type": "code",
   "execution_count": 7,
   "metadata": {},
   "outputs": [
    {
     "data": {
      "text/plain": [
       "<seaborn.matrix.ClusterGrid at 0x1dda1b21a30>"
      ]
     },
     "execution_count": 7,
     "metadata": {},
     "output_type": "execute_result"
    },
    {
     "data": {
      "image/png": "[encoded data removed]",
      "text/plain": [
       "<Figure size 720x720 with 4 Axes>"
      ]
     },
     "metadata": {
      "needs_background": "light"
     },
     "output_type": "display_data"
    }
   ],
   "source": [
    "# 다중공선성 확인.\n",
    "# 다중공선성 확인 시 Lasso Regression 사용불가. ElasticNet이나 Ridge로 대체.\n",
    "\n",
    "import seaborn as sns\n",
    "iris_X_df.corr()\n",
    "\n",
    "sns.clustermap(data=iris_X_df.corr(),\n",
    "              annot=True)"
   ]
  },
  {
   "cell_type": "markdown",
   "metadata": {},
   "source": [
    "Correlation이 너무 높다..ㅠㅠ"
   ]
  },
  {
   "cell_type": "markdown",
   "metadata": {},
   "source": [
    "### Implement Gradient Descent"
   ]
  },
  {
   "cell_type": "code",
   "execution_count": 8,
   "metadata": {},
   "outputs": [],
   "source": [
    "def softmax(product):\n",
    "    '''\n",
    "    input\n",
    "    \n",
    "        product: dot product of W and X.T\n",
    "        \n",
    "    '''\n",
    "    denom = sum(np.exp(product))\n",
    "    return np.array([np.exp(i)/denom for i in product])"
   ]
  },
  {
   "cell_type": "code",
   "execution_count": 80,
   "metadata": {},
   "outputs": [],
   "source": [
    "from sklearn.model_selection import train_test_split\n",
    "\n",
    "def Gradient_Descent(X, y, eta=0.05, n_iterations=10000):\n",
    "\n",
    "    ''' \n",
    "    input\n",
    "    \n",
    "        X: One row of input consisting of [sepal length, sepal width, petal length, petal width]\n",
    "        y: label\n",
    "        \n",
    "    '''\n",
    "    W = np.random.randn(3,4)\n",
    "    b = np.zeros((3,1))\n",
    "    min_loss = 9999\n",
    "    \n",
    "    X, X_val, y, y_val = train_test_split(X, y, test_size=0.1, stratify=y)\n",
    "    \n",
    "    m = X.shape[0]\n",
    "    m_val = X_val.shape[0]\n",
    "    \n",
    "    for iteration in range(n_iterations):\n",
    "        \n",
    "        # Compute Weight dot X\n",
    "        Z = W.dot(X.T) + b\n",
    "        \n",
    "        # Compute Sigmoid\n",
    "        y_hat = softmax(Z)\n",
    "        \n",
    "        # Compute gradient\n",
    "        dW = 1/m * np.dot(X.T, (y_hat.T - y)).T\n",
    "        db = 1/m * np.sum(y_hat.T - y, axis=0).reshape(3,1)\n",
    "        \n",
    "        W = W - eta * dW\n",
    "        b = b - eta * db\n",
    "        \n",
    "        loss = -(1/m) * np.sum(y * np.log(y_hat).T)\n",
    "        \n",
    "        # Do the same for validation\n",
    "        # Compute Weight dot X\n",
    "        Z_val = W.dot(X_val.T) + b\n",
    "        \n",
    "        # Compute Sigmoid\n",
    "        y_hat_val = softmax(Z_val)\n",
    "        \n",
    "        # Compute val loss\n",
    "        loss_val = -(1/m_val) * np.sum(y_val * np.log(y_hat_val).T)\n",
    "        \n",
    "        #print('train', y, np.log(y_hat.T))\n",
    "        #print('loss', np.dot(y_val * np.log(y_hat_val)).shape)\n",
    "        \n",
    "        if iteration%30 == 0:\n",
    "\n",
    "            print(f'iteration {iteration}, train loss: {loss:.4}, val loss: {loss_val:.4}, min loss: {min_loss}')\n",
    "            \n",
    "            # Early stopping\n",
    "            \n",
    "            if loss_val > min_loss or abs(loss_val - min_loss) < 0.0001:\n",
    "                print(f'Early stopping at epoch {iteration}')\n",
    "                return (W_best, b_best)\n",
    "        \n",
    "        if loss_val < min_loss:\n",
    "            W_best = W\n",
    "            b_best = b\n",
    "            min_loss = loss_val\n",
    "            \n",
    "    return (W_best, b_best)"
   ]
  },
  {
   "cell_type": "markdown",
   "metadata": {},
   "source": [
    "### Test"
   ]
  },
  {
   "cell_type": "code",
   "execution_count": 81,
   "metadata": {},
   "outputs": [],
   "source": [
    "X, X_test, y, y_test = train_test_split(iris_X, iris_y, test_size=0.1, stratify=iris_y)"
   ]
  },
  {
   "cell_type": "code",
   "execution_count": 82,
   "metadata": {},
   "outputs": [
    {
     "name": "stdout",
     "output_type": "stream",
     "text": [
      "iteration 0, train loss: 7.963, val loss: 6.842, min loss: 9999\n",
      "iteration 30, train loss: 0.9802, val loss: 1.016, min loss: 1.0349542675092147\n",
      "iteration 60, train loss: 0.7127, val loss: 0.6992, min loss: 0.7055509867535538\n",
      "iteration 90, train loss: 0.6032, val loss: 0.5602, min loss: 0.5636693384053081\n",
      "iteration 120, train loss: 0.5376, val loss: 0.4772, min loss: 0.47946343687438336\n",
      "iteration 150, train loss: 0.4914, val loss: 0.4201, min loss: 0.42175852170273764\n",
      "iteration 180, train loss: 0.4558, val loss: 0.3772, min loss: 0.37844728768554786\n",
      "iteration 210, train loss: 0.4267, val loss: 0.343, min loss: 0.3440185388472098\n",
      "iteration 240, train loss: 0.4021, val loss: 0.3148, min loss: 0.31564703848088205\n",
      "iteration 270, train loss: 0.3809, val loss: 0.291, min loss: 0.2917121456523209\n",
      "iteration 300, train loss: 0.3624, val loss: 0.2706, min loss: 0.2711898975969244\n",
      "iteration 330, train loss: 0.346, val loss: 0.2528, min loss: 0.2533820722021623\n",
      "iteration 360, train loss: 0.3313, val loss: 0.2373, min loss: 0.2377845954686947\n",
      "iteration 390, train loss: 0.3182, val loss: 0.2236, min loss: 0.22401806439753064\n",
      "iteration 420, train loss: 0.3063, val loss: 0.2114, min loss: 0.2117881049083821\n",
      "iteration 450, train loss: 0.2956, val loss: 0.2005, min loss: 0.20086112742823517\n",
      "iteration 480, train loss: 0.2858, val loss: 0.1907, min loss: 0.19104858845500403\n",
      "iteration 510, train loss: 0.2768, val loss: 0.1819, min loss: 0.18219625659454758\n",
      "iteration 540, train loss: 0.2685, val loss: 0.1739, min loss: 0.17417659460551346\n",
      "iteration 570, train loss: 0.2609, val loss: 0.1667, min loss: 0.16688317964755345\n",
      "iteration 600, train loss: 0.2539, val loss: 0.16, min loss: 0.1602265133949018\n",
      "iteration 630, train loss: 0.2474, val loss: 0.1539, min loss: 0.15413081302941134\n",
      "iteration 660, train loss: 0.2413, val loss: 0.1484, min loss: 0.14853151410669146\n",
      "iteration 690, train loss: 0.2356, val loss: 0.1432, min loss: 0.14337330190703496\n",
      "iteration 720, train loss: 0.2303, val loss: 0.1385, min loss: 0.13860854242767992\n",
      "iteration 750, train loss: 0.2254, val loss: 0.1341, min loss: 0.1341960201991638\n",
      "iteration 780, train loss: 0.2207, val loss: 0.13, min loss: 0.13009991466045487\n",
      "iteration 810, train loss: 0.2163, val loss: 0.1262, min loss: 0.12628896401328535\n",
      "iteration 840, train loss: 0.2122, val loss: 0.1226, min loss: 0.12273577778089835\n",
      "iteration 870, train loss: 0.2082, val loss: 0.1193, min loss: 0.11941626827606222\n",
      "iteration 900, train loss: 0.2045, val loss: 0.1162, min loss: 0.11630917784255349\n",
      "iteration 930, train loss: 0.201, val loss: 0.1133, min loss: 0.11339568374090848\n",
      "Early stopping at epoch 930\n"
     ]
    }
   ],
   "source": [
    "W, b = Gradient_Descent(X, np.identity(3)[y])"
   ]
  },
  {
   "cell_type": "code",
   "execution_count": 83,
   "metadata": {},
   "outputs": [],
   "source": [
    "def predict(X, W, b):\n",
    "    \n",
    "    # X --> Input.\n",
    "    # w --> weights.\n",
    "    # b --> bias.\n",
    "    \n",
    "    # Predicting\n",
    "    Z = W@X.T+b\n",
    "    y_hat = softmax(Z)\n",
    "    # Returning the class with highest probability.\n",
    "    return np.argmax(y_hat.T, axis=1)"
   ]
  },
  {
   "cell_type": "code",
   "execution_count": 84,
   "metadata": {},
   "outputs": [],
   "source": [
    "preds = predict(X_test, W, b)"
   ]
  },
  {
   "cell_type": "code",
   "execution_count": 85,
   "metadata": {},
   "outputs": [
    {
     "data": {
      "text/plain": [
       "array([0, 0, 0, 2, 1, 2, 1, 1, 0, 1, 2, 2, 0, 2, 1], dtype=int64)"
      ]
     },
     "execution_count": 85,
     "metadata": {},
     "output_type": "execute_result"
    }
   ],
   "source": [
    "preds"
   ]
  },
  {
   "cell_type": "code",
   "execution_count": 86,
   "metadata": {},
   "outputs": [
    {
     "data": {
      "text/plain": [
       "array([0, 0, 0, 2, 1, 2, 1, 1, 0, 1, 2, 2, 0, 2, 1])"
      ]
     },
     "execution_count": 86,
     "metadata": {},
     "output_type": "execute_result"
    }
   ],
   "source": [
    "y_test"
   ]
  },
  {
   "cell_type": "markdown",
   "metadata": {},
   "source": [
    "### Assess"
   ]
  },
  {
   "cell_type": "code",
   "execution_count": 87,
   "metadata": {},
   "outputs": [],
   "source": [
    "from sklearn.metrics import confusion_matrix, f1_score"
   ]
  },
  {
   "cell_type": "code",
   "execution_count": 88,
   "metadata": {},
   "outputs": [
    {
     "data": {
      "text/plain": [
       "array([[5, 0, 0],\n",
       "       [0, 5, 0],\n",
       "       [0, 0, 5]], dtype=int64)"
      ]
     },
     "execution_count": 88,
     "metadata": {},
     "output_type": "execute_result"
    }
   ],
   "source": [
    "confusion_matrix(y_test, preds)"
   ]
  },
  {
   "cell_type": "code",
   "execution_count": 89,
   "metadata": {},
   "outputs": [
    {
     "data": {
      "text/plain": [
       "1.0"
      ]
     },
     "execution_count": 89,
     "metadata": {},
     "output_type": "execute_result"
    }
   ],
   "source": [
    "f1_score(y_test, preds, average='weighted')"
   ]
  },
  {
   "cell_type": "code",
   "execution_count": null,
   "metadata": {},
   "outputs": [],
   "source": []
  }
 ],
 "metadata": {
  "kernelspec": {
   "display_name": "Python 3",
   "language": "python",
   "name": "python3"
  },
  "language_info": {
   "codemirror_mode": {
    "name": "ipython",
    "version": 3
   },
   "file_extension": ".py",
   "mimetype": "text/x-python",
   "name": "python",
   "nbconvert_exporter": "python",
   "pygments_lexer": "ipython3",
   "version": "3.8.5"
  }
 },
 "nbformat": 4,
 "nbformat_minor": 4
}
