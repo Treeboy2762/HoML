{
 "cells": [
  {
   "cell_type": "code",
   "execution_count": 1,
   "id": "c9cc2618",
   "metadata": {},
   "outputs": [],
   "source": [
    "import pandas as pd\n",
    "import numpy as np"
   ]
  },
  {
   "cell_type": "code",
   "execution_count": 2,
   "id": "8809acce",
   "metadata": {},
   "outputs": [],
   "source": [
    "df = pd.read_csv('../dataset/housing.csv')"
   ]
  },
  {
   "cell_type": "code",
   "execution_count": 3,
   "id": "526b4629",
   "metadata": {},
   "outputs": [
    {
     "data": {
      "text/html": [
       "<div>\n",
       "<style scoped>\n",
       "    .dataframe tbody tr th:only-of-type {\n",
       "        vertical-align: middle;\n",
       "    }\n",
       "\n",
       "    .dataframe tbody tr th {\n",
       "        vertical-align: top;\n",
       "    }\n",
       "\n",
       "    .dataframe thead th {\n",
       "        text-align: right;\n",
       "    }\n",
       "</style>\n",
       "<table border=\"1\" class=\"dataframe\">\n",
       "  <thead>\n",
       "    <tr style=\"text-align: right;\">\n",
       "      <th></th>\n",
       "      <th>longitude</th>\n",
       "      <th>latitude</th>\n",
       "      <th>housing_median_age</th>\n",
       "      <th>total_rooms</th>\n",
       "      <th>total_bedrooms</th>\n",
       "      <th>population</th>\n",
       "      <th>households</th>\n",
       "      <th>median_income</th>\n",
       "      <th>median_house_value</th>\n",
       "      <th>ocean_proximity</th>\n",
       "    </tr>\n",
       "  </thead>\n",
       "  <tbody>\n",
       "    <tr>\n",
       "      <th>0</th>\n",
       "      <td>-122.23</td>\n",
       "      <td>37.88</td>\n",
       "      <td>41.0</td>\n",
       "      <td>880.0</td>\n",
       "      <td>129.0</td>\n",
       "      <td>322.0</td>\n",
       "      <td>126.0</td>\n",
       "      <td>8.3252</td>\n",
       "      <td>452600.0</td>\n",
       "      <td>NEAR BAY</td>\n",
       "    </tr>\n",
       "    <tr>\n",
       "      <th>1</th>\n",
       "      <td>-122.22</td>\n",
       "      <td>37.86</td>\n",
       "      <td>21.0</td>\n",
       "      <td>7099.0</td>\n",
       "      <td>1106.0</td>\n",
       "      <td>2401.0</td>\n",
       "      <td>1138.0</td>\n",
       "      <td>8.3014</td>\n",
       "      <td>358500.0</td>\n",
       "      <td>NEAR BAY</td>\n",
       "    </tr>\n",
       "    <tr>\n",
       "      <th>2</th>\n",
       "      <td>-122.24</td>\n",
       "      <td>37.85</td>\n",
       "      <td>52.0</td>\n",
       "      <td>1467.0</td>\n",
       "      <td>190.0</td>\n",
       "      <td>496.0</td>\n",
       "      <td>177.0</td>\n",
       "      <td>7.2574</td>\n",
       "      <td>352100.0</td>\n",
       "      <td>NEAR BAY</td>\n",
       "    </tr>\n",
       "    <tr>\n",
       "      <th>3</th>\n",
       "      <td>-122.25</td>\n",
       "      <td>37.85</td>\n",
       "      <td>52.0</td>\n",
       "      <td>1274.0</td>\n",
       "      <td>235.0</td>\n",
       "      <td>558.0</td>\n",
       "      <td>219.0</td>\n",
       "      <td>5.6431</td>\n",
       "      <td>341300.0</td>\n",
       "      <td>NEAR BAY</td>\n",
       "    </tr>\n",
       "    <tr>\n",
       "      <th>4</th>\n",
       "      <td>-122.25</td>\n",
       "      <td>37.85</td>\n",
       "      <td>52.0</td>\n",
       "      <td>1627.0</td>\n",
       "      <td>280.0</td>\n",
       "      <td>565.0</td>\n",
       "      <td>259.0</td>\n",
       "      <td>3.8462</td>\n",
       "      <td>342200.0</td>\n",
       "      <td>NEAR BAY</td>\n",
       "    </tr>\n",
       "    <tr>\n",
       "      <th>...</th>\n",
       "      <td>...</td>\n",
       "      <td>...</td>\n",
       "      <td>...</td>\n",
       "      <td>...</td>\n",
       "      <td>...</td>\n",
       "      <td>...</td>\n",
       "      <td>...</td>\n",
       "      <td>...</td>\n",
       "      <td>...</td>\n",
       "      <td>...</td>\n",
       "    </tr>\n",
       "    <tr>\n",
       "      <th>20635</th>\n",
       "      <td>-121.09</td>\n",
       "      <td>39.48</td>\n",
       "      <td>25.0</td>\n",
       "      <td>1665.0</td>\n",
       "      <td>374.0</td>\n",
       "      <td>845.0</td>\n",
       "      <td>330.0</td>\n",
       "      <td>1.5603</td>\n",
       "      <td>78100.0</td>\n",
       "      <td>INLAND</td>\n",
       "    </tr>\n",
       "    <tr>\n",
       "      <th>20636</th>\n",
       "      <td>-121.21</td>\n",
       "      <td>39.49</td>\n",
       "      <td>18.0</td>\n",
       "      <td>697.0</td>\n",
       "      <td>150.0</td>\n",
       "      <td>356.0</td>\n",
       "      <td>114.0</td>\n",
       "      <td>2.5568</td>\n",
       "      <td>77100.0</td>\n",
       "      <td>INLAND</td>\n",
       "    </tr>\n",
       "    <tr>\n",
       "      <th>20637</th>\n",
       "      <td>-121.22</td>\n",
       "      <td>39.43</td>\n",
       "      <td>17.0</td>\n",
       "      <td>2254.0</td>\n",
       "      <td>485.0</td>\n",
       "      <td>1007.0</td>\n",
       "      <td>433.0</td>\n",
       "      <td>1.7000</td>\n",
       "      <td>92300.0</td>\n",
       "      <td>INLAND</td>\n",
       "    </tr>\n",
       "    <tr>\n",
       "      <th>20638</th>\n",
       "      <td>-121.32</td>\n",
       "      <td>39.43</td>\n",
       "      <td>18.0</td>\n",
       "      <td>1860.0</td>\n",
       "      <td>409.0</td>\n",
       "      <td>741.0</td>\n",
       "      <td>349.0</td>\n",
       "      <td>1.8672</td>\n",
       "      <td>84700.0</td>\n",
       "      <td>INLAND</td>\n",
       "    </tr>\n",
       "    <tr>\n",
       "      <th>20639</th>\n",
       "      <td>-121.24</td>\n",
       "      <td>39.37</td>\n",
       "      <td>16.0</td>\n",
       "      <td>2785.0</td>\n",
       "      <td>616.0</td>\n",
       "      <td>1387.0</td>\n",
       "      <td>530.0</td>\n",
       "      <td>2.3886</td>\n",
       "      <td>89400.0</td>\n",
       "      <td>INLAND</td>\n",
       "    </tr>\n",
       "  </tbody>\n",
       "</table>\n",
       "<p>20640 rows × 10 columns</p>\n",
       "</div>"
      ],
      "text/plain": [
       "       longitude  latitude  housing_median_age  total_rooms  total_bedrooms  \\\n",
       "0        -122.23     37.88                41.0        880.0           129.0   \n",
       "1        -122.22     37.86                21.0       7099.0          1106.0   \n",
       "2        -122.24     37.85                52.0       1467.0           190.0   \n",
       "3        -122.25     37.85                52.0       1274.0           235.0   \n",
       "4        -122.25     37.85                52.0       1627.0           280.0   \n",
       "...          ...       ...                 ...          ...             ...   \n",
       "20635    -121.09     39.48                25.0       1665.0           374.0   \n",
       "20636    -121.21     39.49                18.0        697.0           150.0   \n",
       "20637    -121.22     39.43                17.0       2254.0           485.0   \n",
       "20638    -121.32     39.43                18.0       1860.0           409.0   \n",
       "20639    -121.24     39.37                16.0       2785.0           616.0   \n",
       "\n",
       "       population  households  median_income  median_house_value  \\\n",
       "0           322.0       126.0         8.3252            452600.0   \n",
       "1          2401.0      1138.0         8.3014            358500.0   \n",
       "2           496.0       177.0         7.2574            352100.0   \n",
       "3           558.0       219.0         5.6431            341300.0   \n",
       "4           565.0       259.0         3.8462            342200.0   \n",
       "...           ...         ...            ...                 ...   \n",
       "20635       845.0       330.0         1.5603             78100.0   \n",
       "20636       356.0       114.0         2.5568             77100.0   \n",
       "20637      1007.0       433.0         1.7000             92300.0   \n",
       "20638       741.0       349.0         1.8672             84700.0   \n",
       "20639      1387.0       530.0         2.3886             89400.0   \n",
       "\n",
       "      ocean_proximity  \n",
       "0            NEAR BAY  \n",
       "1            NEAR BAY  \n",
       "2            NEAR BAY  \n",
       "3            NEAR BAY  \n",
       "4            NEAR BAY  \n",
       "...               ...  \n",
       "20635          INLAND  \n",
       "20636          INLAND  \n",
       "20637          INLAND  \n",
       "20638          INLAND  \n",
       "20639          INLAND  \n",
       "\n",
       "[20640 rows x 10 columns]"
      ]
     },
     "execution_count": 3,
     "metadata": {},
     "output_type": "execute_result"
    }
   ],
   "source": [
    "df"
   ]
  },
  {
   "cell_type": "code",
   "execution_count": 4,
   "id": "51b02cfa",
   "metadata": {},
   "outputs": [],
   "source": [
    "import matplotlib.pyplot as plt"
   ]
  },
  {
   "cell_type": "code",
   "execution_count": 5,
   "id": "1a1e23eb",
   "metadata": {},
   "outputs": [
    {
     "data": {
      "text/plain": [
       "<matplotlib.collections.PathCollection at 0x7fca78172f10>"
      ]
     },
     "execution_count": 5,
     "metadata": {},
     "output_type": "execute_result"
    },
    {
     "data": {
      "image/png": "[encoded data removed]",
      "text/plain": [
       "<Figure size 720x504 with 1 Axes>"
      ]
     },
     "metadata": {
      "needs_background": "light"
     },
     "output_type": "display_data"
    }
   ],
   "source": [
    "%matplotlib inline\n",
    "plt.figure(figsize=(10,7))\n",
    "plt.scatter(df['longitude'], df['latitude'],\n",
    "            c=df['median_house_value'], cmap=plt.get_cmap('jet'),\n",
    "            marker='o', alpha=0.1)"
   ]
  },
  {
   "cell_type": "markdown",
   "id": "643d4f81",
   "metadata": {},
   "source": [
    "## Split Dataset"
   ]
  },
  {
   "cell_type": "code",
   "execution_count": 56,
   "id": "d73c7663",
   "metadata": {},
   "outputs": [],
   "source": [
    "# Split X and y\n",
    "\n",
    "X = df.drop('median_house_value', axis=1)\n",
    "y = df['median_house_value']\n",
    "\n",
    "# Split the dataset\n",
    "\n",
    "from sklearn.model_selection import train_test_split\n",
    "X_train, X_valid, y_train, y_valid = train_test_split(X, y, test_size=0.1, random_state=49)"
   ]
  },
  {
   "cell_type": "markdown",
   "id": "3adc46fb",
   "metadata": {},
   "source": [
    "## Check for data types and missing values. Then create corresponding imputers."
   ]
  },
  {
   "cell_type": "code",
   "execution_count": 7,
   "id": "7072d34c",
   "metadata": {
    "scrolled": true
   },
   "outputs": [
    {
     "name": "stdout",
     "output_type": "stream",
     "text": [
      "<class 'pandas.core.frame.DataFrame'>\n",
      "Int64Index: 18576 entries, 12537 to 426\n",
      "Data columns (total 9 columns):\n",
      " #   Column              Non-Null Count  Dtype  \n",
      "---  ------              --------------  -----  \n",
      " 0   longitude           18576 non-null  float64\n",
      " 1   latitude            18576 non-null  float64\n",
      " 2   housing_median_age  18576 non-null  float64\n",
      " 3   total_rooms         18576 non-null  float64\n",
      " 4   total_bedrooms      18387 non-null  float64\n",
      " 5   population          18576 non-null  float64\n",
      " 6   households          18576 non-null  float64\n",
      " 7   median_income       18576 non-null  float64\n",
      " 8   ocean_proximity     18576 non-null  object \n",
      "dtypes: float64(8), object(1)\n",
      "memory usage: 1.4+ MB\n"
     ]
    }
   ],
   "source": [
    "# Categorical, numerical?\n",
    "\n",
    "X_train.info()"
   ]
  },
  {
   "cell_type": "markdown",
   "id": "c855110f",
   "metadata": {},
   "source": [
    "Only ocean_proximity is categorical. Check cardinality"
   ]
  },
  {
   "cell_type": "code",
   "execution_count": 8,
   "id": "4476edc2",
   "metadata": {},
   "outputs": [
    {
     "data": {
      "text/plain": [
       "<1H OCEAN     8217\n",
       "INLAND        5897\n",
       "NEAR OCEAN    2379\n",
       "NEAR BAY      2079\n",
       "ISLAND           4\n",
       "Name: ocean_proximity, dtype: int64"
      ]
     },
     "execution_count": 8,
     "metadata": {},
     "output_type": "execute_result"
    }
   ],
   "source": [
    "# cardinality?\n",
    "\n",
    "X_train['ocean_proximity'].value_counts()"
   ]
  },
  {
   "cell_type": "markdown",
   "id": "e5f85f7a",
   "metadata": {},
   "source": [
    "Five subcategories -> low cardinality. \n",
    "\n",
    "ISLAND subcategory is a peculiarity -> need to check if it has exceptionally high price"
   ]
  },
  {
   "cell_type": "code",
   "execution_count": 9,
   "id": "41524f6f",
   "metadata": {},
   "outputs": [
    {
     "data": {
      "text/plain": [
       "longitude               0\n",
       "latitude                0\n",
       "housing_median_age      0\n",
       "total_rooms             0\n",
       "total_bedrooms        189\n",
       "population              0\n",
       "households              0\n",
       "median_income           0\n",
       "ocean_proximity         0\n",
       "dtype: int64"
      ]
     },
     "execution_count": 9,
     "metadata": {},
     "output_type": "execute_result"
    }
   ],
   "source": [
    "# is there null?\n",
    "\n",
    "X_train.isnull().sum()"
   ]
  },
  {
   "cell_type": "code",
   "execution_count": 10,
   "id": "b0c82172",
   "metadata": {},
   "outputs": [
    {
     "data": {
      "text/plain": [
       "12537     278.0\n",
       "20549     691.0\n",
       "7810      175.0\n",
       "18353     181.0\n",
       "13673    1063.0\n",
       "          ...  \n",
       "8050      582.0\n",
       "7924      600.0\n",
       "19638       NaN\n",
       "15861     691.0\n",
       "426       391.0\n",
       "Name: total_bedrooms, Length: 18576, dtype: float64"
      ]
     },
     "execution_count": 10,
     "metadata": {},
     "output_type": "execute_result"
    }
   ],
   "source": [
    "X_train['total_bedrooms']"
   ]
  },
  {
   "cell_type": "markdown",
   "id": "09e62067",
   "metadata": {},
   "source": [
    "'total_bedrooms' column is likely to have unrecorded data\n",
    "\n",
    "-> calculate the mean bedroom/room ratio and use the ratio to fill missing values"
   ]
  },
  {
   "cell_type": "code",
   "execution_count": 11,
   "id": "a7dd76b2",
   "metadata": {},
   "outputs": [
    {
     "name": "stdout",
     "output_type": "stream",
     "text": [
      "<class 'pandas.core.frame.DataFrame'>\n",
      "RangeIndex: 20640 entries, 0 to 20639\n",
      "Data columns (total 10 columns):\n",
      " #   Column              Non-Null Count  Dtype  \n",
      "---  ------              --------------  -----  \n",
      " 0   longitude           20640 non-null  float64\n",
      " 1   latitude            20640 non-null  float64\n",
      " 2   housing_median_age  20640 non-null  float64\n",
      " 3   total_rooms         20640 non-null  float64\n",
      " 4   total_bedrooms      20433 non-null  float64\n",
      " 5   population          20640 non-null  float64\n",
      " 6   households          20640 non-null  float64\n",
      " 7   median_income       20640 non-null  float64\n",
      " 8   median_house_value  20640 non-null  float64\n",
      " 9   ocean_proximity     20640 non-null  object \n",
      "dtypes: float64(9), object(1)\n",
      "memory usage: 1.6+ MB\n"
     ]
    }
   ],
   "source": [
    "df.info()"
   ]
  },
  {
   "cell_type": "code",
   "execution_count": 53,
   "id": "153d5052",
   "metadata": {},
   "outputs": [],
   "source": [
    "# Create custom imputer \n",
    "\n",
    "from sklearn.base import BaseEstimator, TransformerMixin\n",
    "\n",
    "class TotalBedroomsImputer(BaseEstimator, TransformerMixin):\n",
    "    def __init__(self):\n",
    "        None\n",
    "    def fit(self, X, y=None):\n",
    "        self.bedroomRatio = (X.loc[:,'total_bedrooms']/X.loc[:,'total_rooms']).mean()\n",
    "        return self\n",
    "    def transform(self, X):\n",
    "        X = X.copy()\n",
    "        X.loc[:,'total_bedrooms'] = X['total_bedrooms'].fillna(X['total_rooms']*self.bedroomRatio)\n",
    "        return X"
   ]
  },
  {
   "cell_type": "code",
   "execution_count": 86,
   "id": "2042537c",
   "metadata": {},
   "outputs": [],
   "source": [
    "# Create a pipeline\n",
    "# Impute numerical columns with a SimpleImputer, strategy='median'\n",
    "\n",
    "from sklearn.pipeline import Pipeline\n",
    "from sklearn.impute import SimpleImputer\n",
    "from sklearn.preprocessing import OneHotEncoder, StandardScaler\n",
    "\n",
    "num_pipeline = Pipeline([\n",
    "    ('totalbedrooms', TotalBedroomsImputer()),\n",
    "    ('imputer', SimpleImputer(strategy='median')),\n",
    "    ('std_scaler', StandardScaler())\n",
    "])\n",
    "\n",
    "# Split into numerical / categorical\n",
    "\n",
    "numerical_col = X_train.drop(['ocean_proximity'], axis=1).columns\n",
    "categorical_col = ['ocean_proximity']\n",
    "\n",
    "# Merge pipelines\n",
    "\n",
    "from sklearn.compose import ColumnTransformer\n",
    "\n",
    "full_pipeline = ColumnTransformer([\n",
    "    ('num', num_pipeline, numerical_col),\n",
    "    ('cat', OneHotEncoder(handle_unknown='ignore'), categorical_col)\n",
    "])"
   ]
  },
  {
   "cell_type": "code",
   "execution_count": 156,
   "id": "d550853b",
   "metadata": {},
   "outputs": [],
   "source": [
    "X_train_transformed = full_pipeline.fit_transform(X_train)"
   ]
  },
  {
   "cell_type": "code",
   "execution_count": 122,
   "id": "5e10b25b",
   "metadata": {},
   "outputs": [],
   "source": [
    "X_train_transformed = pd.DataFrame(X_train_transformed)\n"
   ]
  },
  {
   "cell_type": "code",
   "execution_count": 131,
   "id": "4eaf087e",
   "metadata": {},
   "outputs": [],
   "source": [
    "X_train_transformed.columns = np.append(numerical_col.values, full_pipeline.transformers_[1][1].get_feature_names(['ocean_proximity']))"
   ]
  },
  {
   "cell_type": "code",
   "execution_count": 132,
   "id": "0869e0f3",
   "metadata": {},
   "outputs": [
    {
     "data": {
      "text/html": [
       "<div>\n",
       "<style scoped>\n",
       "    .dataframe tbody tr th:only-of-type {\n",
       "        vertical-align: middle;\n",
       "    }\n",
       "\n",
       "    .dataframe tbody tr th {\n",
       "        vertical-align: top;\n",
       "    }\n",
       "\n",
       "    .dataframe thead th {\n",
       "        text-align: right;\n",
       "    }\n",
       "</style>\n",
       "<table border=\"1\" class=\"dataframe\">\n",
       "  <thead>\n",
       "    <tr style=\"text-align: right;\">\n",
       "      <th></th>\n",
       "      <th>longitude</th>\n",
       "      <th>latitude</th>\n",
       "      <th>housing_median_age</th>\n",
       "      <th>total_rooms</th>\n",
       "      <th>total_bedrooms</th>\n",
       "      <th>population</th>\n",
       "      <th>households</th>\n",
       "      <th>median_income</th>\n",
       "      <th>ocean_proximity_&lt;1H OCEAN</th>\n",
       "      <th>ocean_proximity_INLAND</th>\n",
       "      <th>ocean_proximity_ISLAND</th>\n",
       "      <th>ocean_proximity_NEAR BAY</th>\n",
       "      <th>ocean_proximity_NEAR OCEAN</th>\n",
       "    </tr>\n",
       "  </thead>\n",
       "  <tbody>\n",
       "    <tr>\n",
       "      <th>0</th>\n",
       "      <td>-0.968906</td>\n",
       "      <td>1.367972</td>\n",
       "      <td>1.384775</td>\n",
       "      <td>-0.530883</td>\n",
       "      <td>-0.617958</td>\n",
       "      <td>-0.787889</td>\n",
       "      <td>-0.545932</td>\n",
       "      <td>-0.570402</td>\n",
       "      <td>0.0</td>\n",
       "      <td>1.0</td>\n",
       "      <td>0.0</td>\n",
       "      <td>0.0</td>\n",
       "      <td>0.0</td>\n",
       "    </tr>\n",
       "    <tr>\n",
       "      <th>1</th>\n",
       "      <td>-1.113667</td>\n",
       "      <td>1.433557</td>\n",
       "      <td>-1.639254</td>\n",
       "      <td>0.422437</td>\n",
       "      <td>0.364972</td>\n",
       "      <td>0.607902</td>\n",
       "      <td>0.466927</td>\n",
       "      <td>-0.066435</td>\n",
       "      <td>0.0</td>\n",
       "      <td>1.0</td>\n",
       "      <td>0.0</td>\n",
       "      <td>0.0</td>\n",
       "      <td>0.0</td>\n",
       "    </tr>\n",
       "    <tr>\n",
       "      <th>2</th>\n",
       "      <td>0.733279</td>\n",
       "      <td>-0.810377</td>\n",
       "      <td>0.668558</td>\n",
       "      <td>-0.849891</td>\n",
       "      <td>-0.863096</td>\n",
       "      <td>-0.604070</td>\n",
       "      <td>-0.828591</td>\n",
       "      <td>-0.144037</td>\n",
       "      <td>1.0</td>\n",
       "      <td>0.0</td>\n",
       "      <td>0.0</td>\n",
       "      <td>0.0</td>\n",
       "      <td>0.0</td>\n",
       "    </tr>\n",
       "    <tr>\n",
       "      <th>3</th>\n",
       "      <td>-1.273403</td>\n",
       "      <td>0.815187</td>\n",
       "      <td>0.668558</td>\n",
       "      <td>-0.548940</td>\n",
       "      <td>-0.848816</td>\n",
       "      <td>-0.772058</td>\n",
       "      <td>-0.810271</td>\n",
       "      <td>3.604973</td>\n",
       "      <td>0.0</td>\n",
       "      <td>0.0</td>\n",
       "      <td>0.0</td>\n",
       "      <td>1.0</td>\n",
       "      <td>0.0</td>\n",
       "    </tr>\n",
       "    <tr>\n",
       "      <th>4</th>\n",
       "      <td>1.157577</td>\n",
       "      <td>-0.744792</td>\n",
       "      <td>-0.843457</td>\n",
       "      <td>1.448911</td>\n",
       "      <td>1.250323</td>\n",
       "      <td>1.175190</td>\n",
       "      <td>1.461467</td>\n",
       "      <td>0.301084</td>\n",
       "      <td>0.0</td>\n",
       "      <td>1.0</td>\n",
       "      <td>0.0</td>\n",
       "      <td>0.0</td>\n",
       "      <td>0.0</td>\n",
       "    </tr>\n",
       "    <tr>\n",
       "      <th>...</th>\n",
       "      <td>...</td>\n",
       "      <td>...</td>\n",
       "      <td>...</td>\n",
       "      <td>...</td>\n",
       "      <td>...</td>\n",
       "      <td>...</td>\n",
       "      <td>...</td>\n",
       "      <td>...</td>\n",
       "      <td>...</td>\n",
       "      <td>...</td>\n",
       "      <td>...</td>\n",
       "      <td>...</td>\n",
       "      <td>...</td>\n",
       "    </tr>\n",
       "    <tr>\n",
       "      <th>18571</th>\n",
       "      <td>0.693345</td>\n",
       "      <td>-0.833800</td>\n",
       "      <td>0.907297</td>\n",
       "      <td>-0.016026</td>\n",
       "      <td>0.105554</td>\n",
       "      <td>-0.124734</td>\n",
       "      <td>0.155479</td>\n",
       "      <td>0.052989</td>\n",
       "      <td>1.0</td>\n",
       "      <td>0.0</td>\n",
       "      <td>0.0</td>\n",
       "      <td>0.0</td>\n",
       "      <td>0.0</td>\n",
       "    </tr>\n",
       "    <tr>\n",
       "      <th>18572</th>\n",
       "      <td>0.743262</td>\n",
       "      <td>-0.838484</td>\n",
       "      <td>0.191080</td>\n",
       "      <td>-0.117886</td>\n",
       "      <td>0.148394</td>\n",
       "      <td>0.541059</td>\n",
       "      <td>0.244465</td>\n",
       "      <td>-0.130902</td>\n",
       "      <td>1.0</td>\n",
       "      <td>0.0</td>\n",
       "      <td>0.0</td>\n",
       "      <td>0.0</td>\n",
       "      <td>0.0</td>\n",
       "    </tr>\n",
       "    <tr>\n",
       "      <th>18573</th>\n",
       "      <td>-0.699352</td>\n",
       "      <td>0.843295</td>\n",
       "      <td>-0.127239</td>\n",
       "      <td>-0.579498</td>\n",
       "      <td>-0.580003</td>\n",
       "      <td>-0.542504</td>\n",
       "      <td>-0.621831</td>\n",
       "      <td>-0.886169</td>\n",
       "      <td>0.0</td>\n",
       "      <td>1.0</td>\n",
       "      <td>0.0</td>\n",
       "      <td>0.0</td>\n",
       "      <td>0.0</td>\n",
       "    </tr>\n",
       "    <tr>\n",
       "      <th>18574</th>\n",
       "      <td>-1.408180</td>\n",
       "      <td>0.997887</td>\n",
       "      <td>1.862254</td>\n",
       "      <td>0.351134</td>\n",
       "      <td>0.364972</td>\n",
       "      <td>0.191891</td>\n",
       "      <td>0.252316</td>\n",
       "      <td>-0.088818</td>\n",
       "      <td>0.0</td>\n",
       "      <td>0.0</td>\n",
       "      <td>0.0</td>\n",
       "      <td>1.0</td>\n",
       "      <td>0.0</td>\n",
       "    </tr>\n",
       "    <tr>\n",
       "      <th>18575</th>\n",
       "      <td>-1.348279</td>\n",
       "      <td>1.054103</td>\n",
       "      <td>1.862254</td>\n",
       "      <td>-0.434579</td>\n",
       "      <td>-0.349021</td>\n",
       "      <td>-0.666516</td>\n",
       "      <td>-0.347025</td>\n",
       "      <td>-0.174668</td>\n",
       "      <td>0.0</td>\n",
       "      <td>0.0</td>\n",
       "      <td>0.0</td>\n",
       "      <td>1.0</td>\n",
       "      <td>0.0</td>\n",
       "    </tr>\n",
       "  </tbody>\n",
       "</table>\n",
       "<p>18576 rows × 13 columns</p>\n",
       "</div>"
      ],
      "text/plain": [
       "       longitude  latitude  housing_median_age  total_rooms  total_bedrooms  \\\n",
       "0      -0.968906  1.367972            1.384775    -0.530883       -0.617958   \n",
       "1      -1.113667  1.433557           -1.639254     0.422437        0.364972   \n",
       "2       0.733279 -0.810377            0.668558    -0.849891       -0.863096   \n",
       "3      -1.273403  0.815187            0.668558    -0.548940       -0.848816   \n",
       "4       1.157577 -0.744792           -0.843457     1.448911        1.250323   \n",
       "...          ...       ...                 ...          ...             ...   \n",
       "18571   0.693345 -0.833800            0.907297    -0.016026        0.105554   \n",
       "18572   0.743262 -0.838484            0.191080    -0.117886        0.148394   \n",
       "18573  -0.699352  0.843295           -0.127239    -0.579498       -0.580003   \n",
       "18574  -1.408180  0.997887            1.862254     0.351134        0.364972   \n",
       "18575  -1.348279  1.054103            1.862254    -0.434579       -0.349021   \n",
       "\n",
       "       population  households  median_income  ocean_proximity_<1H OCEAN  \\\n",
       "0       -0.787889   -0.545932      -0.570402                        0.0   \n",
       "1        0.607902    0.466927      -0.066435                        0.0   \n",
       "2       -0.604070   -0.828591      -0.144037                        1.0   \n",
       "3       -0.772058   -0.810271       3.604973                        0.0   \n",
       "4        1.175190    1.461467       0.301084                        0.0   \n",
       "...           ...         ...            ...                        ...   \n",
       "18571   -0.124734    0.155479       0.052989                        1.0   \n",
       "18572    0.541059    0.244465      -0.130902                        1.0   \n",
       "18573   -0.542504   -0.621831      -0.886169                        0.0   \n",
       "18574    0.191891    0.252316      -0.088818                        0.0   \n",
       "18575   -0.666516   -0.347025      -0.174668                        0.0   \n",
       "\n",
       "       ocean_proximity_INLAND  ocean_proximity_ISLAND  \\\n",
       "0                         1.0                     0.0   \n",
       "1                         1.0                     0.0   \n",
       "2                         0.0                     0.0   \n",
       "3                         0.0                     0.0   \n",
       "4                         1.0                     0.0   \n",
       "...                       ...                     ...   \n",
       "18571                     0.0                     0.0   \n",
       "18572                     0.0                     0.0   \n",
       "18573                     1.0                     0.0   \n",
       "18574                     0.0                     0.0   \n",
       "18575                     0.0                     0.0   \n",
       "\n",
       "       ocean_proximity_NEAR BAY  ocean_proximity_NEAR OCEAN  \n",
       "0                           0.0                         0.0  \n",
       "1                           0.0                         0.0  \n",
       "2                           0.0                         0.0  \n",
       "3                           1.0                         0.0  \n",
       "4                           0.0                         0.0  \n",
       "...                         ...                         ...  \n",
       "18571                       0.0                         0.0  \n",
       "18572                       0.0                         0.0  \n",
       "18573                       0.0                         0.0  \n",
       "18574                       1.0                         0.0  \n",
       "18575                       1.0                         0.0  \n",
       "\n",
       "[18576 rows x 13 columns]"
      ]
     },
     "execution_count": 132,
     "metadata": {},
     "output_type": "execute_result"
    }
   ],
   "source": [
    "X_train_transformed"
   ]
  },
  {
   "cell_type": "markdown",
   "id": "2e9276d7",
   "metadata": {},
   "source": [
    "## Grid Search"
   ]
  },
  {
   "cell_type": "code",
   "execution_count": 137,
   "id": "bfec1bbd",
   "metadata": {},
   "outputs": [
    {
     "data": {
      "text/plain": [
       "GridSearchCV(cv=5, estimator=RandomForestRegressor(),\n",
       "             param_grid=[{'bootstrap': [True, False],\n",
       "                          'max_features': [2, 4, 6, 8],\n",
       "                          'n_estimators': [3, 10, 30, 100]}],\n",
       "             return_train_score=True, scoring='neg_mean_squared_error')"
      ]
     },
     "execution_count": 137,
     "metadata": {},
     "output_type": "execute_result"
    }
   ],
   "source": [
    "from sklearn.ensemble import RandomForestRegressor\n",
    "from sklearn.model_selection import GridSearchCV\n",
    "\n",
    "param_grid = [\n",
    "    {'bootstrap': [True, False], 'n_estimators': [3, 10, 30, 100], 'max_features': [2, 4, 6, 8]}\n",
    "]\n",
    "\n",
    "forest_reg = RandomForestRegressor()\n",
    "gridsearch = GridSearchCV(forest_reg, param_grid, cv=5,\n",
    "                         scoring='neg_mean_squared_error',\n",
    "                         return_train_score=True)\n",
    "\n",
    "gridsearch.fit(X_train_transformed, y_train)"
   ]
  },
  {
   "cell_type": "code",
   "execution_count": 139,
   "id": "743e4918",
   "metadata": {},
   "outputs": [
    {
     "data": {
      "text/plain": [
       "{'bootstrap': False, 'max_features': 6, 'n_estimators': 100}"
      ]
     },
     "execution_count": 139,
     "metadata": {},
     "output_type": "execute_result"
    }
   ],
   "source": [
    "gridsearch.best_params_"
   ]
  },
  {
   "cell_type": "code",
   "execution_count": 149,
   "id": "f0caa20d",
   "metadata": {},
   "outputs": [],
   "source": [
    "result = gridsearch.cv_results_\n",
    "resultlist = list(zip(np.sqrt(-result['mean_test_score']), result['params']))"
   ]
  },
  {
   "cell_type": "code",
   "execution_count": 151,
   "id": "c26e4365",
   "metadata": {},
   "outputs": [
    {
     "data": {
      "text/plain": [
       "[(48331.25677847213,\n",
       "  {'bootstrap': False, 'max_features': 6, 'n_estimators': 100}),\n",
       " (48589.146124803214,\n",
       "  {'bootstrap': True, 'max_features': 6, 'n_estimators': 100}),\n",
       " (48663.80189657778,\n",
       "  {'bootstrap': True, 'max_features': 8, 'n_estimators': 100}),\n",
       " (48716.929672374165,\n",
       "  {'bootstrap': False, 'max_features': 4, 'n_estimators': 100}),\n",
       " (48794.38935227212,\n",
       "  {'bootstrap': False, 'max_features': 8, 'n_estimators': 100})]"
      ]
     },
     "execution_count": 151,
     "metadata": {},
     "output_type": "execute_result"
    }
   ],
   "source": [
    "sorted(resultlist, key = lambda resultlist : resultlist[0])[:5]"
   ]
  },
  {
   "cell_type": "code",
   "execution_count": 152,
   "id": "0962c978",
   "metadata": {},
   "outputs": [],
   "source": [
    "best_model = RandomForestRegressor(n_estimators=100, max_features=6, bootstrap=False)"
   ]
  },
  {
   "cell_type": "code",
   "execution_count": 154,
   "id": "e2fd1ffc",
   "metadata": {},
   "outputs": [
    {
     "data": {
      "text/plain": [
       "RandomForestRegressor(bootstrap=False, max_features=6)"
      ]
     },
     "execution_count": 154,
     "metadata": {},
     "output_type": "execute_result"
    }
   ],
   "source": [
    "best_model.fit(X_train_transformed, y_train)"
   ]
  },
  {
   "cell_type": "markdown",
   "id": "d35f6539",
   "metadata": {},
   "source": [
    "## Test model"
   ]
  },
  {
   "cell_type": "code",
   "execution_count": 159,
   "id": "c07aa00c",
   "metadata": {},
   "outputs": [],
   "source": [
    "X_valid_transformed = full_pipeline.transform(X_valid)\n",
    "\n",
    "preds = best_model.predict(X_valid_transformed)"
   ]
  },
  {
   "cell_type": "code",
   "execution_count": 162,
   "id": "1210e269",
   "metadata": {},
   "outputs": [],
   "source": [
    "from sklearn.metrics import mean_squared_error\n",
    "\n",
    "lin_mse = mean_squared_error(preds, y_valid)"
   ]
  },
  {
   "cell_type": "code",
   "execution_count": 164,
   "id": "7fe2e60b",
   "metadata": {},
   "outputs": [
    {
     "data": {
      "text/plain": [
       "47349.95794512262"
      ]
     },
     "execution_count": 164,
     "metadata": {},
     "output_type": "execute_result"
    }
   ],
   "source": [
    "np.sqrt(lin_mse)"
   ]
  },
  {
   "cell_type": "markdown",
   "id": "1edd42db",
   "metadata": {},
   "source": [
    "# Exercises"
   ]
  },
  {
   "cell_type": "code",
   "execution_count": 181,
   "id": "145091f7",
   "metadata": {},
   "outputs": [],
   "source": [
    "num_pipeline = Pipeline([\n",
    "    ('totalbedrooms', TotalBedroomsImputer()),\n",
    "    ('imputer', SimpleImputer(strategy='median')),\n",
    "    ('std_scaler', StandardScaler())\n",
    "])\n",
    "\n",
    "# Split into numerical / categorical\n",
    "\n",
    "numerical_col = X_train.drop(['ocean_proximity'], axis=1).columns\n",
    "categorical_col = ['ocean_proximity']\n",
    "\n",
    "# Merge pipelines\n",
    "\n",
    "from sklearn.compose import ColumnTransformer\n",
    "\n",
    "full_pipeline = ColumnTransformer([\n",
    "    ('num', num_pipeline, numerical_col),\n",
    "    ('cat', OneHotEncoder(handle_unknown='ignore'), categorical_col)\n",
    "])"
   ]
  },
  {
   "cell_type": "code",
   "execution_count": 184,
   "id": "ea86e0d0",
   "metadata": {},
   "outputs": [
    {
     "data": {
      "text/plain": [
       "RandomizedSearchCV(cv=5, estimator=SVR(), n_iter=5,\n",
       "                   param_distributions=[{'C': <scipy.stats._distn_infrastructure.rv_frozen object at 0x7fca7c730bb0>,\n",
       "                                         'gamma': <scipy.stats._distn_infrastructure.rv_frozen object at 0x7fca7c719b20>,\n",
       "                                         'kernel': ['linear', 'rbf']}],\n",
       "                   return_train_score=True, scoring='neg_mean_squared_error')"
      ]
     },
     "execution_count": 184,
     "metadata": {},
     "output_type": "execute_result"
    }
   ],
   "source": [
    "X_train_transform = full_pipeline.fit_transform(X_train)\n",
    "\n",
    "from sklearn.svm import SVR\n",
    "from sklearn.model_selection import RandomizedSearchCV\n",
    "from scipy.stats import expon, reciprocal\n",
    "\n",
    "param_grid = [{\n",
    "        'kernel': ['linear', 'rbf'],\n",
    "        'C': reciprocal(20, 200000),\n",
    "        'gamma': expon(scale=1.0),\n",
    "    }]\n",
    "\n",
    "svr = SVR()\n",
    "random_search = RandomizedSearchCV(svr, param_grid, cv=5, n_iter=5,\n",
    "                         scoring='neg_mean_squared_error',\n",
    "                         return_train_score=True)\n",
    "random_search.fit(X_train_transform, y_train)"
   ]
  },
  {
   "cell_type": "code",
   "execution_count": 195,
   "id": "e070fe37",
   "metadata": {},
   "outputs": [
    {
     "data": {
      "text/plain": [
       "SVR(C=121194.32812708982, gamma=0.5871105046974214, kernel='linear')"
      ]
     },
     "execution_count": 195,
     "metadata": {},
     "output_type": "execute_result"
    }
   ],
   "source": [
    "random_search.best_estimator_"
   ]
  },
  {
   "cell_type": "code",
   "execution_count": 206,
   "id": "91251f17",
   "metadata": {},
   "outputs": [
    {
     "data": {
      "text/plain": [
       "SVR(C=121194.32812708982, gamma=0.5871105046974214, kernel='linear')"
      ]
     },
     "execution_count": 206,
     "metadata": {},
     "output_type": "execute_result"
    }
   ],
   "source": [
    "from sklearn.svm import SVR\n",
    "\n",
    "feature_importances = random_search.best_estimator_.coef_\n",
    "features = pd.Series(abs(feature_importances[0]), index=np.append(numerical_col.values, full_pipeline.transformers_[1][1].get_feature_names(['ocean_proximity'])))\n",
    "X_train_transform = pd.DataFrame(X_train_transform, columns=np.append(numerical_col.values, full_pipeline.transformers_[1][1].get_feature_names(['ocean_proximity'])))\n",
    "X_train_transform = X_train_transform.loc[:,list(features.nlargest(10).index)]\n",
    "\n",
    "SVR_best = SVR(C=121194.32812708982, gamma=0.5871105046974214, kernel='linear')\n",
    "SVR_best.fit(X_train_transform, y_train)"
   ]
  },
  {
   "cell_type": "code",
   "execution_count": 207,
   "id": "654f3ba6",
   "metadata": {},
   "outputs": [],
   "source": [
    "X_valid_transform = pd.DataFrame(full_pipeline.transform(X_valid))\n",
    "X_valid_transform.columns = np.append(numerical_col.values, full_pipeline.transformers_[1][1].get_feature_names(['ocean_proximity']))\n",
    "X_valid_transform =  X_valid_transform.loc[:,list(features.nlargest(10).index)]\n",
    "preds = SVR_best.predict(X_valid_transform)"
   ]
  },
  {
   "cell_type": "code",
   "execution_count": 208,
   "id": "c4be6811",
   "metadata": {},
   "outputs": [
    {
     "data": {
      "text/plain": [
       "69861.37087614398"
      ]
     },
     "execution_count": 208,
     "metadata": {},
     "output_type": "execute_result"
    }
   ],
   "source": [
    "from sklearn.metrics import mean_squared_error\n",
    "\n",
    "np.sqrt(mean_squared_error(preds, y_valid))"
   ]
  }
 ],
 "metadata": {
  "kernelspec": {
   "display_name": "Python 3",
   "language": "python",
   "name": "python3"
  },
  "language_info": {
   "codemirror_mode": {
    "name": "ipython",
    "version": 3
   },
   "file_extension": ".py",
   "mimetype": "text/x-python",
   "name": "python",
   "nbconvert_exporter": "python",
   "pygments_lexer": "ipython3",
   "version": "3.8.8"
  }
 },
 "nbformat": 4,
 "nbformat_minor": 5
}
